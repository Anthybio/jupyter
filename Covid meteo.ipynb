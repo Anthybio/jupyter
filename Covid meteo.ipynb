{
 "cells": [
  {
   "cell_type": "markdown",
   "metadata": {
    "toc": true
   },
   "source": [
    "<h1>Table of Contents<span class=\"tocSkip\"></span></h1>\n",
    "<div class=\"toc\"><ul class=\"toc-item\"><li><span><a href=\"#Reprise-de-la-formule-de-predict\" data-toc-modified-id=\"Reprise-de-la-formule-de-predict-1\"><span class=\"toc-item-num\">1&nbsp;&nbsp;</span>Reprise de la formule de predict</a></span></li><li><span><a href=\"#Recuperation-des-donnees-meteos\" data-toc-modified-id=\"Recuperation-des-donnees-meteos-2\"><span class=\"toc-item-num\">2&nbsp;&nbsp;</span>Recuperation des donnees meteos</a></span></li><li><span><a href=\"#reintegration-donnees-covid\" data-toc-modified-id=\"reintegration-donnees-covid-3\"><span class=\"toc-item-num\">3&nbsp;&nbsp;</span>reintegration donnees covid</a></span></li><li><span><a href=\"#recuperation-donnees-meteo-france\" data-toc-modified-id=\"recuperation-donnees-meteo-france-4\"><span class=\"toc-item-num\">4&nbsp;&nbsp;</span>recuperation donnees meteo france</a></span></li><li><span><a href=\"#recuperation-données-infoclimat\" data-toc-modified-id=\"recuperation-données-infoclimat-5\"><span class=\"toc-item-num\">5&nbsp;&nbsp;</span>recuperation données infoclimat</a></span></li></ul></div>"
   ]
  },
  {
   "cell_type": "code",
   "execution_count": 1,
   "metadata": {
    "collapsed": true
   },
   "outputs": [],
   "source": [
    "import pandas as pd\n",
    "import numpy as np\n",
    "import seaborn as sns\n",
    "import matplotlib.pyplot as plt\n",
    "from math import exp"
   ]
  },
  {
   "cell_type": "markdown",
   "metadata": {},
   "source": [
    "# Reprise de la formule de predict"
   ]
  },
  {
   "cell_type": "markdown",
   "metadata": {},
   "source": [
    "humidite va de 30 à 100\n",
    "temperature de -5 à 40"
   ]
  },
  {
   "cell_type": "code",
   "execution_count": 12,
   "metadata": {
    "collapsed": true
   },
   "outputs": [],
   "source": [
    "res=[]\n",
    "for j in range(30,100, 2):\n",
    "    for i in range(-5,40):\n",
    "        T=i\n",
    "        RH=j\n",
    "        AH=6.112*(exp(17.67*T/(T+243.5))*RH*2.1674)/(273.15+T)\n",
    "        IPTCC=100*exp(-1/2*((T-7.5)**2/196+(RH-75)**2/625+(AH-6)**2/2.89))\n",
    "        res.append([i,j,IPTCC])\n",
    "        next\n",
    "    next"
   ]
  },
  {
   "cell_type": "code",
   "execution_count": 13,
   "metadata": {
    "collapsed": true
   },
   "outputs": [],
   "source": [
    "mat = pd.DataFrame(res, columns = ['Temperature', 'Humidité', 'IPTCC'])"
   ]
  },
  {
   "cell_type": "code",
   "execution_count": 14,
   "metadata": {
    "collapsed": true
   },
   "outputs": [],
   "source": [
    "htrest=mat.pivot_table(index='Humidité', columns='Temperature', values='IPTCC')"
   ]
  },
  {
   "cell_type": "code",
   "execution_count": 15,
   "metadata": {},
   "outputs": [
    {
     "data": {
      "image/png": "[encoded data removed]",
      "text/plain": [
       "<matplotlib.figure.Figure at 0x7f8ec8b1aa58>"
      ]
     },
     "metadata": {},
     "output_type": "display_data"
    },
    {
     "data": {
      "image/png": "[encoded data removed]",
      "text/plain": [
       "<matplotlib.figure.Figure at 0x7f8ec8c126a0>"
      ]
     },
     "metadata": {},
     "output_type": "display_data"
    }
   ],
   "source": [
    "plt.subplots()\n",
    "sns.heatmap(htrest)\n",
    "plt.show()"
   ]
  },
  {
   "cell_type": "markdown",
   "metadata": {},
   "source": [
    "# Recuperation des donnees meteos"
   ]
  },
  {
   "cell_type": "markdown",
   "metadata": {},
   "source": [
    "https://public.opendatasoft.com/explore/dataset/donnees-synop-essentielles-omm/export/?flg=fr&sort=date&refine.nom=NICE&refine.date=2020&dataChart=eyJxdWVyaWVzIjpbeyJjaGFydHMiOlt7InR5cGUiOiJjb2x1bW4iLCJmdW5jIjoiQVZHIiwieUF4aXMiOiJ0YyIsInNjaWVudGlmaWNEaXNwbGF5Ijp0cnVlLCJjb2xvciI6IiNGRjUxNUEifV0sInhBeGlzIjoiZGF0ZSIsIm1heHBvaW50cyI6IiIsInRpbWVzY2FsZSI6ImRheSIsInNvcnQiOiIiLCJjb25maWciOnsiZGF0YXNldCI6ImRvbm5lZXMtc3lub3AtZXNzZW50aWVsbGVzLW9tbSIsIm9wdGlvbnMiOnsiZmxnIjoiZnIiLCJzb3J0IjoiZGF0ZSJ9fX1dLCJkaXNwbGF5TGVnZW5kIjp0cnVlLCJhbGlnbk1vbnRoIjp0cnVlfQ%3D%3D"
   ]
  },
  {
   "cell_type": "markdown",
   "metadata": {},
   "source": [
    "https://public.opendatasoft.com/explore/dataset/donnees-synop-essentielles-omm/export/?flg=fr&sort=date&refine.nom=NICE&refine.date=2020&dataChart=eyJxdWVyaWVzIjpbeyJjaGFydHMiOlt7InR5cGUiOiJjb2x1bW4iLCJmdW5jIjoiQVZHIiwieUF4aXMiOiJ0YyIsInNjaWVudGlmaWNEaXNwbGF5Ijp0cnVlLCJjb2xvciI6IiNGRjUxNUEifV0sInhBeGlzIjoiZGF0ZSIsIm1heHBvaW50cyI6IiIsInRpbWVzY2FsZSI6ImRheSIsInNvcnQiOiIiLCJjb25maWciOnsiZGF0YXNldCI6ImRvbm5lZXMtc3lub3AtZXNzZW50aWVsbGVzLW9tbSIsIm9wdGlvbnMiOnsiZmxnIjoiZnIiLCJzb3J0IjoiZGF0ZSJ9fX1dLCJkaXNwbGF5TGVnZW5kIjp0cnVlLCJhbGlnbk1vbnRoIjp0cnVlfQ%3D%3D"
   ]
  },
  {
   "cell_type": "markdown",
   "metadata": {},
   "source": [
    "donnees-synop-essentielles-omm.csv"
   ]
  },
  {
   "cell_type": "code",
   "execution_count": 16,
   "metadata": {},
   "outputs": [
    {
     "data": {
      "text/html": [
       "<div>\n",
       "<style scoped>\n",
       "    .dataframe tbody tr th:only-of-type {\n",
       "        vertical-align: middle;\n",
       "    }\n",
       "\n",
       "    .dataframe tbody tr th {\n",
       "        vertical-align: top;\n",
       "    }\n",
       "\n",
       "    .dataframe thead th {\n",
       "        text-align: right;\n",
       "    }\n",
       "</style>\n",
       "<table border=\"1\" class=\"dataframe\">\n",
       "  <thead>\n",
       "    <tr style=\"text-align: right;\">\n",
       "      <th></th>\n",
       "      <th>ID OMM station</th>\n",
       "      <th>Date</th>\n",
       "      <th>Pression au niveau mer</th>\n",
       "      <th>Variation de pression en 3 heures</th>\n",
       "      <th>Type de tendance barométrique</th>\n",
       "      <th>Direction du vent moyen 10 mn</th>\n",
       "      <th>Vitesse du vent moyen 10 mn</th>\n",
       "      <th>Température</th>\n",
       "      <th>Point de rosée</th>\n",
       "      <th>Humidité</th>\n",
       "      <th>...</th>\n",
       "      <th>Latitude</th>\n",
       "      <th>communes (name)</th>\n",
       "      <th>communes (code)</th>\n",
       "      <th>EPCI (name)</th>\n",
       "      <th>EPCI (code)</th>\n",
       "      <th>department (name)</th>\n",
       "      <th>department (code)</th>\n",
       "      <th>region (name)</th>\n",
       "      <th>region (code)</th>\n",
       "      <th>mois_de_l_annee</th>\n",
       "    </tr>\n",
       "  </thead>\n",
       "  <tbody>\n",
       "    <tr>\n",
       "      <th>2855</th>\n",
       "      <td>7690</td>\n",
       "      <td>2020-11-04T22:00:00+01:00</td>\n",
       "      <td>102600</td>\n",
       "      <td>160.0</td>\n",
       "      <td>2.0</td>\n",
       "      <td>340</td>\n",
       "      <td>1.4</td>\n",
       "      <td>288.35</td>\n",
       "      <td>286.35</td>\n",
       "      <td>88</td>\n",
       "      <td>...</td>\n",
       "      <td>43.648833</td>\n",
       "      <td>Nice</td>\n",
       "      <td>6088</td>\n",
       "      <td>Métropole Nice Côte d'Azur</td>\n",
       "      <td>200030195</td>\n",
       "      <td>Alpes-Maritimes</td>\n",
       "      <td>6</td>\n",
       "      <td>Provence-Alpes-Côte d'Azur</td>\n",
       "      <td>93</td>\n",
       "      <td>11</td>\n",
       "    </tr>\n",
       "    <tr>\n",
       "      <th>2856</th>\n",
       "      <td>7690</td>\n",
       "      <td>2020-11-15T19:00:00+01:00</td>\n",
       "      <td>102020</td>\n",
       "      <td>0.0</td>\n",
       "      <td>5.0</td>\n",
       "      <td>70</td>\n",
       "      <td>4.2</td>\n",
       "      <td>289.95</td>\n",
       "      <td>285.05</td>\n",
       "      <td>73</td>\n",
       "      <td>...</td>\n",
       "      <td>43.648833</td>\n",
       "      <td>Nice</td>\n",
       "      <td>6088</td>\n",
       "      <td>Métropole Nice Côte d'Azur</td>\n",
       "      <td>200030195</td>\n",
       "      <td>Alpes-Maritimes</td>\n",
       "      <td>6</td>\n",
       "      <td>Provence-Alpes-Côte d'Azur</td>\n",
       "      <td>93</td>\n",
       "      <td>11</td>\n",
       "    </tr>\n",
       "    <tr>\n",
       "      <th>2857</th>\n",
       "      <td>7690</td>\n",
       "      <td>2020-12-18T16:00:00+01:00</td>\n",
       "      <td>102530</td>\n",
       "      <td>-50.0</td>\n",
       "      <td>5.0</td>\n",
       "      <td>120</td>\n",
       "      <td>1.4</td>\n",
       "      <td>287.55</td>\n",
       "      <td>282.15</td>\n",
       "      <td>70</td>\n",
       "      <td>...</td>\n",
       "      <td>43.648833</td>\n",
       "      <td>Nice</td>\n",
       "      <td>6088</td>\n",
       "      <td>Métropole Nice Côte d'Azur</td>\n",
       "      <td>200030195</td>\n",
       "      <td>Alpes-Maritimes</td>\n",
       "      <td>6</td>\n",
       "      <td>Provence-Alpes-Côte d'Azur</td>\n",
       "      <td>93</td>\n",
       "      <td>12</td>\n",
       "    </tr>\n",
       "    <tr>\n",
       "      <th>2858</th>\n",
       "      <td>7690</td>\n",
       "      <td>2020-11-09T13:00:00+01:00</td>\n",
       "      <td>102350</td>\n",
       "      <td>-120.0</td>\n",
       "      <td>8.0</td>\n",
       "      <td>130</td>\n",
       "      <td>1.5</td>\n",
       "      <td>292.35</td>\n",
       "      <td>286.95</td>\n",
       "      <td>71</td>\n",
       "      <td>...</td>\n",
       "      <td>43.648833</td>\n",
       "      <td>Nice</td>\n",
       "      <td>6088</td>\n",
       "      <td>Métropole Nice Côte d'Azur</td>\n",
       "      <td>200030195</td>\n",
       "      <td>Alpes-Maritimes</td>\n",
       "      <td>6</td>\n",
       "      <td>Provence-Alpes-Côte d'Azur</td>\n",
       "      <td>93</td>\n",
       "      <td>11</td>\n",
       "    </tr>\n",
       "    <tr>\n",
       "      <th>2859</th>\n",
       "      <td>7690</td>\n",
       "      <td>2020-11-14T19:00:00+01:00</td>\n",
       "      <td>102310</td>\n",
       "      <td>20.0</td>\n",
       "      <td>3.0</td>\n",
       "      <td>20</td>\n",
       "      <td>1.4</td>\n",
       "      <td>289.75</td>\n",
       "      <td>285.25</td>\n",
       "      <td>75</td>\n",
       "      <td>...</td>\n",
       "      <td>43.648833</td>\n",
       "      <td>Nice</td>\n",
       "      <td>6088</td>\n",
       "      <td>Métropole Nice Côte d'Azur</td>\n",
       "      <td>200030195</td>\n",
       "      <td>Alpes-Maritimes</td>\n",
       "      <td>6</td>\n",
       "      <td>Provence-Alpes-Côte d'Azur</td>\n",
       "      <td>93</td>\n",
       "      <td>11</td>\n",
       "    </tr>\n",
       "  </tbody>\n",
       "</table>\n",
       "<p>5 rows × 82 columns</p>\n",
       "</div>"
      ],
      "text/plain": [
       "      ID OMM station                       Date  Pression au niveau mer  \\\n",
       "2855            7690  2020-11-04T22:00:00+01:00                  102600   \n",
       "2856            7690  2020-11-15T19:00:00+01:00                  102020   \n",
       "2857            7690  2020-12-18T16:00:00+01:00                  102530   \n",
       "2858            7690  2020-11-09T13:00:00+01:00                  102350   \n",
       "2859            7690  2020-11-14T19:00:00+01:00                  102310   \n",
       "\n",
       "      Variation de pression en 3 heures  Type de tendance barométrique  \\\n",
       "2855                              160.0                            2.0   \n",
       "2856                                0.0                            5.0   \n",
       "2857                              -50.0                            5.0   \n",
       "2858                             -120.0                            8.0   \n",
       "2859                               20.0                            3.0   \n",
       "\n",
       "      Direction du vent moyen 10 mn  Vitesse du vent moyen 10 mn  Température  \\\n",
       "2855                            340                          1.4       288.35   \n",
       "2856                             70                          4.2       289.95   \n",
       "2857                            120                          1.4       287.55   \n",
       "2858                            130                          1.5       292.35   \n",
       "2859                             20                          1.4       289.75   \n",
       "\n",
       "      Point de rosée  Humidité       ...          Latitude  communes (name)  \\\n",
       "2855          286.35        88       ...         43.648833             Nice   \n",
       "2856          285.05        73       ...         43.648833             Nice   \n",
       "2857          282.15        70       ...         43.648833             Nice   \n",
       "2858          286.95        71       ...         43.648833             Nice   \n",
       "2859          285.25        75       ...         43.648833             Nice   \n",
       "\n",
       "     communes (code)                 EPCI (name)  EPCI (code)  \\\n",
       "2855            6088  Métropole Nice Côte d'Azur    200030195   \n",
       "2856            6088  Métropole Nice Côte d'Azur    200030195   \n",
       "2857            6088  Métropole Nice Côte d'Azur    200030195   \n",
       "2858            6088  Métropole Nice Côte d'Azur    200030195   \n",
       "2859            6088  Métropole Nice Côte d'Azur    200030195   \n",
       "\n",
       "      department (name)  department (code)               region (name)  \\\n",
       "2855    Alpes-Maritimes                  6  Provence-Alpes-Côte d'Azur   \n",
       "2856    Alpes-Maritimes                  6  Provence-Alpes-Côte d'Azur   \n",
       "2857    Alpes-Maritimes                  6  Provence-Alpes-Côte d'Azur   \n",
       "2858    Alpes-Maritimes                  6  Provence-Alpes-Côte d'Azur   \n",
       "2859    Alpes-Maritimes                  6  Provence-Alpes-Côte d'Azur   \n",
       "\n",
       "      region (code)  mois_de_l_annee  \n",
       "2855             93               11  \n",
       "2856             93               11  \n",
       "2857             93               12  \n",
       "2858             93               11  \n",
       "2859             93               11  \n",
       "\n",
       "[5 rows x 82 columns]"
      ]
     },
     "execution_count": 16,
     "metadata": {},
     "output_type": "execute_result"
    }
   ],
   "source": [
    "df = pd.read_csv('donnees-synop-essentielles-omm.csv', sep=';')\n",
    "df.tail()"
   ]
  },
  {
   "cell_type": "code",
   "execution_count": 17,
   "metadata": {},
   "outputs": [
    {
     "data": {
      "text/html": [
       "<div>\n",
       "<style scoped>\n",
       "    .dataframe tbody tr th:only-of-type {\n",
       "        vertical-align: middle;\n",
       "    }\n",
       "\n",
       "    .dataframe tbody tr th {\n",
       "        vertical-align: top;\n",
       "    }\n",
       "\n",
       "    .dataframe thead th {\n",
       "        text-align: right;\n",
       "    }\n",
       "</style>\n",
       "<table border=\"1\" class=\"dataframe\">\n",
       "  <thead>\n",
       "    <tr style=\"text-align: right;\">\n",
       "      <th></th>\n",
       "      <th>Date</th>\n",
       "      <th>Température</th>\n",
       "      <th>Humidité</th>\n",
       "    </tr>\n",
       "  </thead>\n",
       "  <tbody>\n",
       "    <tr>\n",
       "      <th>0</th>\n",
       "      <td>2020-02-23T22:00:00+01:00</td>\n",
       "      <td>283.55</td>\n",
       "      <td>85</td>\n",
       "    </tr>\n",
       "    <tr>\n",
       "      <th>1</th>\n",
       "      <td>2020-04-03T20:00:00+02:00</td>\n",
       "      <td>286.25</td>\n",
       "      <td>63</td>\n",
       "    </tr>\n",
       "    <tr>\n",
       "      <th>2</th>\n",
       "      <td>2020-04-04T14:00:00+02:00</td>\n",
       "      <td>289.95</td>\n",
       "      <td>56</td>\n",
       "    </tr>\n",
       "    <tr>\n",
       "      <th>3</th>\n",
       "      <td>2020-04-04T17:00:00+02:00</td>\n",
       "      <td>290.15</td>\n",
       "      <td>54</td>\n",
       "    </tr>\n",
       "    <tr>\n",
       "      <th>4</th>\n",
       "      <td>2020-04-07T08:00:00+02:00</td>\n",
       "      <td>286.05</td>\n",
       "      <td>44</td>\n",
       "    </tr>\n",
       "    <tr>\n",
       "      <th>5</th>\n",
       "      <td>2020-01-26T07:00:00+01:00</td>\n",
       "      <td>282.15</td>\n",
       "      <td>77</td>\n",
       "    </tr>\n",
       "    <tr>\n",
       "      <th>6</th>\n",
       "      <td>2020-08-23T08:00:00+02:00</td>\n",
       "      <td>296.45</td>\n",
       "      <td>69</td>\n",
       "    </tr>\n",
       "    <tr>\n",
       "      <th>7</th>\n",
       "      <td>2020-09-03T02:00:00+02:00</td>\n",
       "      <td>293.05</td>\n",
       "      <td>71</td>\n",
       "    </tr>\n",
       "    <tr>\n",
       "      <th>8</th>\n",
       "      <td>2020-09-03T20:00:00+02:00</td>\n",
       "      <td>296.55</td>\n",
       "      <td>64</td>\n",
       "    </tr>\n",
       "    <tr>\n",
       "      <th>9</th>\n",
       "      <td>2020-09-04T11:00:00+02:00</td>\n",
       "      <td>298.55</td>\n",
       "      <td>58</td>\n",
       "    </tr>\n",
       "    <tr>\n",
       "      <th>10</th>\n",
       "      <td>2020-08-30T14:00:00+02:00</td>\n",
       "      <td>301.75</td>\n",
       "      <td>39</td>\n",
       "    </tr>\n",
       "    <tr>\n",
       "      <th>11</th>\n",
       "      <td>2020-08-21T02:00:00+02:00</td>\n",
       "      <td>296.95</td>\n",
       "      <td>71</td>\n",
       "    </tr>\n",
       "    <tr>\n",
       "      <th>12</th>\n",
       "      <td>2020-08-22T08:00:00+02:00</td>\n",
       "      <td>297.45</td>\n",
       "      <td>54</td>\n",
       "    </tr>\n",
       "    <tr>\n",
       "      <th>13</th>\n",
       "      <td>2020-09-06T08:00:00+02:00</td>\n",
       "      <td>293.05</td>\n",
       "      <td>57</td>\n",
       "    </tr>\n",
       "    <tr>\n",
       "      <th>14</th>\n",
       "      <td>2020-11-29T13:00:00+01:00</td>\n",
       "      <td>290.35</td>\n",
       "      <td>55</td>\n",
       "    </tr>\n",
       "    <tr>\n",
       "      <th>15</th>\n",
       "      <td>2020-12-02T16:00:00+01:00</td>\n",
       "      <td>283.95</td>\n",
       "      <td>59</td>\n",
       "    </tr>\n",
       "    <tr>\n",
       "      <th>16</th>\n",
       "      <td>2020-12-07T10:00:00+01:00</td>\n",
       "      <td>280.85</td>\n",
       "      <td>62</td>\n",
       "    </tr>\n",
       "    <tr>\n",
       "      <th>17</th>\n",
       "      <td>2020-12-09T04:00:00+01:00</td>\n",
       "      <td>279.85</td>\n",
       "      <td>75</td>\n",
       "    </tr>\n",
       "    <tr>\n",
       "      <th>18</th>\n",
       "      <td>2020-12-14T10:00:00+01:00</td>\n",
       "      <td>281.95</td>\n",
       "      <td>57</td>\n",
       "    </tr>\n",
       "    <tr>\n",
       "      <th>19</th>\n",
       "      <td>2020-11-19T22:00:00+01:00</td>\n",
       "      <td>287.35</td>\n",
       "      <td>78</td>\n",
       "    </tr>\n",
       "  </tbody>\n",
       "</table>\n",
       "</div>"
      ],
      "text/plain": [
       "                         Date  Température  Humidité\n",
       "0   2020-02-23T22:00:00+01:00       283.55        85\n",
       "1   2020-04-03T20:00:00+02:00       286.25        63\n",
       "2   2020-04-04T14:00:00+02:00       289.95        56\n",
       "3   2020-04-04T17:00:00+02:00       290.15        54\n",
       "4   2020-04-07T08:00:00+02:00       286.05        44\n",
       "5   2020-01-26T07:00:00+01:00       282.15        77\n",
       "6   2020-08-23T08:00:00+02:00       296.45        69\n",
       "7   2020-09-03T02:00:00+02:00       293.05        71\n",
       "8   2020-09-03T20:00:00+02:00       296.55        64\n",
       "9   2020-09-04T11:00:00+02:00       298.55        58\n",
       "10  2020-08-30T14:00:00+02:00       301.75        39\n",
       "11  2020-08-21T02:00:00+02:00       296.95        71\n",
       "12  2020-08-22T08:00:00+02:00       297.45        54\n",
       "13  2020-09-06T08:00:00+02:00       293.05        57\n",
       "14  2020-11-29T13:00:00+01:00       290.35        55\n",
       "15  2020-12-02T16:00:00+01:00       283.95        59\n",
       "16  2020-12-07T10:00:00+01:00       280.85        62\n",
       "17  2020-12-09T04:00:00+01:00       279.85        75\n",
       "18  2020-12-14T10:00:00+01:00       281.95        57\n",
       "19  2020-11-19T22:00:00+01:00       287.35        78"
      ]
     },
     "execution_count": 17,
     "metadata": {},
     "output_type": "execute_result"
    }
   ],
   "source": [
    "meteo=df[['Date', 'Température','Humidité']]\n",
    "meteo.head(20)"
   ]
  },
  {
   "cell_type": "code",
   "execution_count": 18,
   "metadata": {},
   "outputs": [
    {
     "name": "stdout",
     "output_type": "stream",
     "text": [
      "2020-02-23\n"
     ]
    }
   ],
   "source": [
    "import datetime\n",
    "d1 = datetime.datetime.strptime(\"2020-02-23T22:00:00+01:00\"[:-15],\"%Y-%m-%d\").strftime(\"%Y-%m-%d\")\n",
    "print (d1)"
   ]
  },
  {
   "cell_type": "code",
   "execution_count": 19,
   "metadata": {},
   "outputs": [
    {
     "name": "stderr",
     "output_type": "stream",
     "text": [
      "/Users/vanessa/anaconda3/lib/python3.6/site-packages/ipykernel_launcher.py:2: SettingWithCopyWarning: \n",
      "A value is trying to be set on a copy of a slice from a DataFrame\n",
      "\n",
      "See the caveats in the documentation: http://pandas.pydata.org/pandas-docs/stable/indexing.html#indexing-view-versus-copy\n",
      "  \n",
      "/Users/vanessa/anaconda3/lib/python3.6/site-packages/IPython/core/interactiveshell.py:2862: SettingWithCopyWarning: \n",
      "A value is trying to be set on a copy of a slice from a DataFrame\n",
      "\n",
      "See the caveats in the documentation: http://pandas.pydata.org/pandas-docs/stable/indexing.html#indexing-view-versus-copy\n",
      "  exec(code_obj, self.user_global_ns, self.user_ns)\n",
      "/Users/vanessa/anaconda3/lib/python3.6/site-packages/ipykernel_launcher.py:3: SettingWithCopyWarning: \n",
      "A value is trying to be set on a copy of a slice from a DataFrame\n",
      "\n",
      "See the caveats in the documentation: http://pandas.pydata.org/pandas-docs/stable/indexing.html#indexing-view-versus-copy\n",
      "  This is separate from the ipykernel package so we can avoid doing imports until\n"
     ]
    }
   ],
   "source": [
    "for i in range (0, len(meteo)-1):\n",
    "    meteo['Date'][i]=datetime.datetime.strptime(meteo['Date'][i][:-15],\"%Y-%m-%d\").strftime(\"%Y-%m-%d\")\n",
    "    meteo['Température'][i]=meteo['Température'][i]-273.15\n",
    "    next"
   ]
  },
  {
   "cell_type": "code",
   "execution_count": 20,
   "metadata": {},
   "outputs": [
    {
     "data": {
      "text/html": [
       "<div>\n",
       "<style scoped>\n",
       "    .dataframe tbody tr th:only-of-type {\n",
       "        vertical-align: middle;\n",
       "    }\n",
       "\n",
       "    .dataframe tbody tr th {\n",
       "        vertical-align: top;\n",
       "    }\n",
       "\n",
       "    .dataframe thead th {\n",
       "        text-align: right;\n",
       "    }\n",
       "</style>\n",
       "<table border=\"1\" class=\"dataframe\">\n",
       "  <thead>\n",
       "    <tr style=\"text-align: right;\">\n",
       "      <th></th>\n",
       "      <th>Date</th>\n",
       "      <th>Température</th>\n",
       "      <th>Humidité</th>\n",
       "    </tr>\n",
       "  </thead>\n",
       "  <tbody>\n",
       "    <tr>\n",
       "      <th>0</th>\n",
       "      <td>2020-02-23</td>\n",
       "      <td>10.4</td>\n",
       "      <td>85</td>\n",
       "    </tr>\n",
       "    <tr>\n",
       "      <th>1</th>\n",
       "      <td>2020-04-03</td>\n",
       "      <td>13.1</td>\n",
       "      <td>63</td>\n",
       "    </tr>\n",
       "    <tr>\n",
       "      <th>2</th>\n",
       "      <td>2020-04-04</td>\n",
       "      <td>16.8</td>\n",
       "      <td>56</td>\n",
       "    </tr>\n",
       "    <tr>\n",
       "      <th>3</th>\n",
       "      <td>2020-04-04</td>\n",
       "      <td>17.0</td>\n",
       "      <td>54</td>\n",
       "    </tr>\n",
       "    <tr>\n",
       "      <th>4</th>\n",
       "      <td>2020-04-07</td>\n",
       "      <td>12.9</td>\n",
       "      <td>44</td>\n",
       "    </tr>\n",
       "  </tbody>\n",
       "</table>\n",
       "</div>"
      ],
      "text/plain": [
       "         Date  Température  Humidité\n",
       "0  2020-02-23         10.4        85\n",
       "1  2020-04-03         13.1        63\n",
       "2  2020-04-04         16.8        56\n",
       "3  2020-04-04         17.0        54\n",
       "4  2020-04-07         12.9        44"
      ]
     },
     "execution_count": 20,
     "metadata": {},
     "output_type": "execute_result"
    }
   ],
   "source": [
    "meteo.head()"
   ]
  },
  {
   "cell_type": "code",
   "execution_count": 21,
   "metadata": {
    "collapsed": true
   },
   "outputs": [],
   "source": [
    "meteo=meteo.groupby(by=[\"Date\"]).mean()"
   ]
  },
  {
   "cell_type": "code",
   "execution_count": 22,
   "metadata": {
    "collapsed": true
   },
   "outputs": [],
   "source": [
    "meteo['IPTCC']=meteo['Humidité']\n",
    "for i in range (0,len(meteo)-1):\n",
    "    AH=6.112*(exp(17.67*meteo['Température'][i]/(meteo['Température'][i]+243.5))*meteo['Humidité'][i]*2.1674)/(273.15+meteo['Température'][i])\n",
    "    meteo['IPTCC'][i]=100*exp(-1/2*((meteo['Température'][i]-7.5)**2/196+(meteo['Humidité'][i]-75)**2/625+(AH-6)**2/2.89))\n",
    "    next"
   ]
  },
  {
   "cell_type": "code",
   "execution_count": 23,
   "metadata": {},
   "outputs": [
    {
     "data": {
      "text/html": [
       "<div>\n",
       "<style scoped>\n",
       "    .dataframe tbody tr th:only-of-type {\n",
       "        vertical-align: middle;\n",
       "    }\n",
       "\n",
       "    .dataframe tbody tr th {\n",
       "        vertical-align: top;\n",
       "    }\n",
       "\n",
       "    .dataframe thead th {\n",
       "        text-align: right;\n",
       "    }\n",
       "</style>\n",
       "<table border=\"1\" class=\"dataframe\">\n",
       "  <thead>\n",
       "    <tr style=\"text-align: right;\">\n",
       "      <th></th>\n",
       "      <th>Température</th>\n",
       "      <th>Humidité</th>\n",
       "      <th>IPTCC</th>\n",
       "    </tr>\n",
       "    <tr>\n",
       "      <th>Date</th>\n",
       "      <th></th>\n",
       "      <th></th>\n",
       "      <th></th>\n",
       "    </tr>\n",
       "  </thead>\n",
       "  <tbody>\n",
       "    <tr>\n",
       "      <th>2020-01-01</th>\n",
       "      <td>9.0375</td>\n",
       "      <td>63.875</td>\n",
       "      <td>88.069786</td>\n",
       "    </tr>\n",
       "    <tr>\n",
       "      <th>2020-01-02</th>\n",
       "      <td>9.1500</td>\n",
       "      <td>67.125</td>\n",
       "      <td>94.489585</td>\n",
       "    </tr>\n",
       "    <tr>\n",
       "      <th>2020-01-03</th>\n",
       "      <td>9.3750</td>\n",
       "      <td>71.500</td>\n",
       "      <td>94.692605</td>\n",
       "    </tr>\n",
       "    <tr>\n",
       "      <th>2020-01-04</th>\n",
       "      <td>9.4625</td>\n",
       "      <td>64.500</td>\n",
       "      <td>90.334805</td>\n",
       "    </tr>\n",
       "    <tr>\n",
       "      <th>2020-01-05</th>\n",
       "      <td>10.6250</td>\n",
       "      <td>64.250</td>\n",
       "      <td>87.739027</td>\n",
       "    </tr>\n",
       "  </tbody>\n",
       "</table>\n",
       "</div>"
      ],
      "text/plain": [
       "            Température  Humidité      IPTCC\n",
       "Date                                        \n",
       "2020-01-01       9.0375    63.875  88.069786\n",
       "2020-01-02       9.1500    67.125  94.489585\n",
       "2020-01-03       9.3750    71.500  94.692605\n",
       "2020-01-04       9.4625    64.500  90.334805\n",
       "2020-01-05      10.6250    64.250  87.739027"
      ]
     },
     "execution_count": 23,
     "metadata": {},
     "output_type": "execute_result"
    }
   ],
   "source": [
    "meteo.head()"
   ]
  },
  {
   "cell_type": "code",
   "execution_count": 37,
   "metadata": {
    "collapsed": true
   },
   "outputs": [],
   "source": [
    "rendu=meteo[['IPTCC']]\n",
    "rendu.index = pd.to_datetime(rendu.index)"
   ]
  },
  {
   "cell_type": "code",
   "execution_count": 38,
   "metadata": {},
   "outputs": [
    {
     "data": {
      "image/png": "[encoded data removed]",
      "text/plain": [
       "<matplotlib.figure.Figure at 0x7f8ecacc9a90>"
      ]
     },
     "metadata": {},
     "output_type": "display_data"
    }
   ],
   "source": [
    "rendu.plot.line()\n",
    "plt.show()"
   ]
  },
  {
   "cell_type": "code",
   "execution_count": 46,
   "metadata": {},
   "outputs": [
    {
     "data": {
      "image/png": "[encoded data removed]",
      "text/plain": [
       "<matplotlib.figure.Figure at 0x7f8ecacb3f28>"
      ]
     },
     "metadata": {},
     "output_type": "display_data"
    },
    {
     "data": {
      "text/plain": [
       "<matplotlib.figure.Figure at 0x7f8ecacb3a20>"
      ]
     },
     "metadata": {},
     "output_type": "display_data"
    }
   ],
   "source": [
    "import matplotlib.dates as mdates\n",
    "from matplotlib.dates import DateFormatter\n",
    "from matplotlib.dates import MonthLocator, DateFormatter\n",
    "\n",
    "fig, ax = plt.subplots()\n",
    "fig = plt.figure(figsize = (200,30))\n",
    "\n",
    "color = 'tab:blue'\n",
    "#ax1.set_xlabel('time (s)')\n",
    "#ax1.set_ylabel('exp', color=color)\n",
    "ax.plot(rendu.index, rendu[['IPTCC']], color=color)\n",
    "ax.tick_params(axis='y', labelcolor=color)\n",
    "\n",
    "\n",
    "\n",
    "\n",
    "plt.show()"
   ]
  },
  {
   "cell_type": "code",
   "execution_count": 30,
   "metadata": {},
   "outputs": [
    {
     "data": {
      "text/plain": [
       "str"
      ]
     },
     "execution_count": 30,
     "metadata": {},
     "output_type": "execute_result"
    }
   ],
   "source": [
    "type(rendu.index.values[0])"
   ]
  },
  {
   "cell_type": "code",
   "execution_count": 35,
   "metadata": {
    "collapsed": true
   },
   "outputs": [],
   "source": []
  },
  {
   "cell_type": "code",
   "execution_count": 36,
   "metadata": {},
   "outputs": [
    {
     "data": {
      "text/plain": [
       "numpy.datetime64"
      ]
     },
     "execution_count": 36,
     "metadata": {},
     "output_type": "execute_result"
    }
   ],
   "source": [
    "type(rendu.index.values[0])"
   ]
  },
  {
   "cell_type": "markdown",
   "metadata": {},
   "source": [
    "# reintegration donnees covid"
   ]
  },
  {
   "cell_type": "code",
   "execution_count": 40,
   "metadata": {},
   "outputs": [
    {
     "name": "stderr",
     "output_type": "stream",
     "text": [
      "/Users/vanessa/anaconda3/lib/python3.6/site-packages/IPython/core/interactiveshell.py:2698: DtypeWarning: Columns (0) have mixed types. Specify dtype option on import or set low_memory=False.\n",
      "  interactivity=interactivity, compiler=compiler, result=result)\n"
     ]
    }
   ],
   "source": [
    "df3 = pd.read_csv('https://www.data.gouv.fr/fr/datasets/r/406c6a23-e283-4300-9484-54e78c8ae675', sep=';')"
   ]
  },
  {
   "cell_type": "code",
   "execution_count": 42,
   "metadata": {},
   "outputs": [
    {
     "name": "stderr",
     "output_type": "stream",
     "text": [
      "/Users/vanessa/anaconda3/lib/python3.6/site-packages/ipykernel_launcher.py:1: UserWarning: Boolean Series key will be reindexed to match DataFrame index.\n",
      "  \"\"\"Entry point for launching an IPython kernel.\n"
     ]
    }
   ],
   "source": [
    "test=df3[df3.cl_age90 == 0][df3.dep=='06'].groupby(['jour']).sum()"
   ]
  },
  {
   "cell_type": "code",
   "execution_count": 43,
   "metadata": {},
   "outputs": [
    {
     "data": {
      "text/html": [
       "<div>\n",
       "<style scoped>\n",
       "    .dataframe tbody tr th:only-of-type {\n",
       "        vertical-align: middle;\n",
       "    }\n",
       "\n",
       "    .dataframe tbody tr th {\n",
       "        vertical-align: top;\n",
       "    }\n",
       "\n",
       "    .dataframe thead th {\n",
       "        text-align: right;\n",
       "    }\n",
       "</style>\n",
       "<table border=\"1\" class=\"dataframe\">\n",
       "  <thead>\n",
       "    <tr style=\"text-align: right;\">\n",
       "      <th></th>\n",
       "      <th>P</th>\n",
       "      <th>T</th>\n",
       "      <th>cl_age90</th>\n",
       "      <th>pop</th>\n",
       "    </tr>\n",
       "    <tr>\n",
       "      <th>jour</th>\n",
       "      <th></th>\n",
       "      <th></th>\n",
       "      <th></th>\n",
       "      <th></th>\n",
       "    </tr>\n",
       "  </thead>\n",
       "  <tbody>\n",
       "    <tr>\n",
       "      <th>2020-05-13</th>\n",
       "      <td>19</td>\n",
       "      <td>831</td>\n",
       "      <td>0</td>\n",
       "      <td>1079396.0</td>\n",
       "    </tr>\n",
       "    <tr>\n",
       "      <th>2020-05-14</th>\n",
       "      <td>24</td>\n",
       "      <td>772</td>\n",
       "      <td>0</td>\n",
       "      <td>1079396.0</td>\n",
       "    </tr>\n",
       "    <tr>\n",
       "      <th>2020-05-15</th>\n",
       "      <td>20</td>\n",
       "      <td>1113</td>\n",
       "      <td>0</td>\n",
       "      <td>1079396.0</td>\n",
       "    </tr>\n",
       "    <tr>\n",
       "      <th>2020-05-16</th>\n",
       "      <td>2</td>\n",
       "      <td>276</td>\n",
       "      <td>0</td>\n",
       "      <td>1079396.0</td>\n",
       "    </tr>\n",
       "    <tr>\n",
       "      <th>2020-05-17</th>\n",
       "      <td>2</td>\n",
       "      <td>128</td>\n",
       "      <td>0</td>\n",
       "      <td>1079396.0</td>\n",
       "    </tr>\n",
       "  </tbody>\n",
       "</table>\n",
       "</div>"
      ],
      "text/plain": [
       "             P     T  cl_age90        pop\n",
       "jour                                     \n",
       "2020-05-13  19   831         0  1079396.0\n",
       "2020-05-14  24   772         0  1079396.0\n",
       "2020-05-15  20  1113         0  1079396.0\n",
       "2020-05-16   2   276         0  1079396.0\n",
       "2020-05-17   2   128         0  1079396.0"
      ]
     },
     "execution_count": 43,
     "metadata": {},
     "output_type": "execute_result"
    }
   ],
   "source": [
    "test.head()"
   ]
  },
  {
   "cell_type": "code",
   "execution_count": 44,
   "metadata": {
    "collapsed": true
   },
   "outputs": [],
   "source": [
    "test['taux']=test['P']/test['T']"
   ]
  },
  {
   "cell_type": "code",
   "execution_count": 45,
   "metadata": {
    "collapsed": true
   },
   "outputs": [],
   "source": [
    "test.index = pd.to_datetime(test.index)"
   ]
  },
  {
   "cell_type": "code",
   "execution_count": 49,
   "metadata": {},
   "outputs": [
    {
     "data": {
      "image/png": "[encoded data removed]",
      "text/plain": [
       "<matplotlib.figure.Figure at 0x7f8ec8f9c198>"
      ]
     },
     "metadata": {},
     "output_type": "display_data"
    }
   ],
   "source": [
    "fig, ax1 = plt.subplots()\n",
    "\n",
    "color = 'tab:blue'\n",
    "\n",
    "ax1.plot(test.index.values, test[['taux']], color=color)\n",
    "ax1.tick_params(axis='y', labelcolor=color)\n",
    "\n",
    "ax2 = ax1.twinx()  # instantiate a second axes that shares the same x-axis\n",
    "\n",
    "color = 'tab:red'\n",
    "#ax2.set_ylabel('sin', color=color)  # we already handled the x-label with ax1\n",
    "ax2.plot(rendu.index.values, rendu[['IPTCC']], color=color)\n",
    "ax2.tick_params(axis='y', labelcolor=color)\n",
    "\n",
    "fig.tight_layout()  # otherwise the right y-label is slightly clipped\n",
    "plt.show()"
   ]
  },
  {
   "cell_type": "markdown",
   "metadata": {
    "collapsed": true
   },
   "source": [
    "https://public.opendatasoft.com/explore/embed/dataset/donnees-synop-essentielles-omm/table/?sort=date&refine.nom_reg=Provence-Alpes-C%C3%B4te%20d'Azur"
   ]
  },
  {
   "cell_type": "markdown",
   "metadata": {},
   "source": [
    "# recuperation donnees meteo france"
   ]
  },
  {
   "cell_type": "code",
   "execution_count": null,
   "metadata": {
    "collapsed": true
   },
   "outputs": [],
   "source": [
    "import pandas as pd\n",
    "import numpy as np\n",
    "import seaborn as sns\n",
    "import matplotlib.pyplot as plt\n",
    "from math import exp"
   ]
  },
  {
   "cell_type": "code",
   "execution_count": 2,
   "metadata": {},
   "outputs": [
    {
     "name": "stderr",
     "output_type": "stream",
     "text": [
      "/Users/vanessa/anaconda3/lib/python3.6/site-packages/IPython/core/interactiveshell.py:2698: DtypeWarning: Columns (4,61) have mixed types. Specify dtype option on import or set low_memory=False.\n",
      "  interactivity=interactivity, compiler=compiler, result=result)\n"
     ]
    },
    {
     "data": {
      "text/html": [
       "<div>\n",
       "<style scoped>\n",
       "    .dataframe tbody tr th:only-of-type {\n",
       "        vertical-align: middle;\n",
       "    }\n",
       "\n",
       "    .dataframe tbody tr th {\n",
       "        vertical-align: top;\n",
       "    }\n",
       "\n",
       "    .dataframe thead th {\n",
       "        text-align: right;\n",
       "    }\n",
       "</style>\n",
       "<table border=\"1\" class=\"dataframe\">\n",
       "  <thead>\n",
       "    <tr style=\"text-align: right;\">\n",
       "      <th></th>\n",
       "      <th>ID OMM station</th>\n",
       "      <th>Date</th>\n",
       "      <th>Pression au niveau mer</th>\n",
       "      <th>Variation de pression en 3 heures</th>\n",
       "      <th>Type de tendance barométrique</th>\n",
       "      <th>Direction du vent moyen 10 mn</th>\n",
       "      <th>Vitesse du vent moyen 10 mn</th>\n",
       "      <th>Température</th>\n",
       "      <th>Point de rosée</th>\n",
       "      <th>Humidité</th>\n",
       "      <th>...</th>\n",
       "      <th>Latitude</th>\n",
       "      <th>communes (name)</th>\n",
       "      <th>communes (code)</th>\n",
       "      <th>EPCI (name)</th>\n",
       "      <th>EPCI (code)</th>\n",
       "      <th>department (name)</th>\n",
       "      <th>department (code)</th>\n",
       "      <th>region (name)</th>\n",
       "      <th>region (code)</th>\n",
       "      <th>mois_de_l_annee</th>\n",
       "    </tr>\n",
       "  </thead>\n",
       "  <tbody>\n",
       "    <tr>\n",
       "      <th>0</th>\n",
       "      <td>7790</td>\n",
       "      <td>2020-05-22T11:00:00+02:00</td>\n",
       "      <td>102420.0</td>\n",
       "      <td>130.0</td>\n",
       "      <td>3</td>\n",
       "      <td>120.0</td>\n",
       "      <td>4.8</td>\n",
       "      <td>297.45</td>\n",
       "      <td>285.45</td>\n",
       "      <td>47.0</td>\n",
       "      <td>...</td>\n",
       "      <td>42.540667</td>\n",
       "      <td>Lucciana</td>\n",
       "      <td>2b148</td>\n",
       "      <td>CC de Marana-Golo</td>\n",
       "      <td>200036499.0</td>\n",
       "      <td>Haute-Corse</td>\n",
       "      <td>2b</td>\n",
       "      <td>Corse</td>\n",
       "      <td>94.0</td>\n",
       "      <td>5</td>\n",
       "    </tr>\n",
       "    <tr>\n",
       "      <th>1</th>\n",
       "      <td>61968</td>\n",
       "      <td>2020-05-22T11:00:00+02:00</td>\n",
       "      <td>101660.0</td>\n",
       "      <td>130.0</td>\n",
       "      <td>8</td>\n",
       "      <td>130.0</td>\n",
       "      <td>1.9</td>\n",
       "      <td>303.35</td>\n",
       "      <td>293.85</td>\n",
       "      <td>57.0</td>\n",
       "      <td>...</td>\n",
       "      <td>-11.582667</td>\n",
       "      <td>NaN</td>\n",
       "      <td>NaN</td>\n",
       "      <td>NaN</td>\n",
       "      <td>NaN</td>\n",
       "      <td>NaN</td>\n",
       "      <td>NaN</td>\n",
       "      <td>NaN</td>\n",
       "      <td>NaN</td>\n",
       "      <td>5</td>\n",
       "    </tr>\n",
       "    <tr>\n",
       "      <th>2</th>\n",
       "      <td>7481</td>\n",
       "      <td>2020-05-22T14:00:00+02:00</td>\n",
       "      <td>102160.0</td>\n",
       "      <td>-40.0</td>\n",
       "      <td>8</td>\n",
       "      <td>200.0</td>\n",
       "      <td>2.3</td>\n",
       "      <td>301.35</td>\n",
       "      <td>287.55</td>\n",
       "      <td>43.0</td>\n",
       "      <td>...</td>\n",
       "      <td>45.726500</td>\n",
       "      <td>Colombier-Saugnieu</td>\n",
       "      <td>69299</td>\n",
       "      <td>CC de l'Est Lyonnais (CCEL)</td>\n",
       "      <td>246900575.0</td>\n",
       "      <td>Rhône</td>\n",
       "      <td>69</td>\n",
       "      <td>Auvergne-Rhône-Alpes</td>\n",
       "      <td>84.0</td>\n",
       "      <td>5</td>\n",
       "    </tr>\n",
       "    <tr>\n",
       "      <th>3</th>\n",
       "      <td>7299</td>\n",
       "      <td>2020-05-22T17:00:00+02:00</td>\n",
       "      <td>102030.0</td>\n",
       "      <td>-40.0</td>\n",
       "      <td>6</td>\n",
       "      <td>300.0</td>\n",
       "      <td>5.0</td>\n",
       "      <td>300.15</td>\n",
       "      <td>287.25</td>\n",
       "      <td>45.0</td>\n",
       "      <td>...</td>\n",
       "      <td>47.614333</td>\n",
       "      <td>Blotzheim</td>\n",
       "      <td>68042</td>\n",
       "      <td>CA Saint-Louis Agglomération</td>\n",
       "      <td>200066058.0</td>\n",
       "      <td>Haut-Rhin</td>\n",
       "      <td>68</td>\n",
       "      <td>Grand Est</td>\n",
       "      <td>44.0</td>\n",
       "      <td>5</td>\n",
       "    </tr>\n",
       "    <tr>\n",
       "      <th>4</th>\n",
       "      <td>7027</td>\n",
       "      <td>2020-05-22T20:00:00+02:00</td>\n",
       "      <td>102230.0</td>\n",
       "      <td>70.0</td>\n",
       "      <td>2</td>\n",
       "      <td>280.0</td>\n",
       "      <td>4.4</td>\n",
       "      <td>289.15</td>\n",
       "      <td>282.35</td>\n",
       "      <td>64.0</td>\n",
       "      <td>...</td>\n",
       "      <td>49.180000</td>\n",
       "      <td>Carpiquet</td>\n",
       "      <td>14137</td>\n",
       "      <td>CU Caen la Mer</td>\n",
       "      <td>200065597.0</td>\n",
       "      <td>Calvados</td>\n",
       "      <td>14</td>\n",
       "      <td>Normandie</td>\n",
       "      <td>28.0</td>\n",
       "      <td>5</td>\n",
       "    </tr>\n",
       "  </tbody>\n",
       "</table>\n",
       "<p>5 rows × 82 columns</p>\n",
       "</div>"
      ],
      "text/plain": [
       "   ID OMM station                       Date  Pression au niveau mer  \\\n",
       "0            7790  2020-05-22T11:00:00+02:00                102420.0   \n",
       "1           61968  2020-05-22T11:00:00+02:00                101660.0   \n",
       "2            7481  2020-05-22T14:00:00+02:00                102160.0   \n",
       "3            7299  2020-05-22T17:00:00+02:00                102030.0   \n",
       "4            7027  2020-05-22T20:00:00+02:00                102230.0   \n",
       "\n",
       "   Variation de pression en 3 heures Type de tendance barométrique  \\\n",
       "0                              130.0                             3   \n",
       "1                              130.0                             8   \n",
       "2                              -40.0                             8   \n",
       "3                              -40.0                             6   \n",
       "4                               70.0                             2   \n",
       "\n",
       "   Direction du vent moyen 10 mn  Vitesse du vent moyen 10 mn  Température  \\\n",
       "0                          120.0                          4.8       297.45   \n",
       "1                          130.0                          1.9       303.35   \n",
       "2                          200.0                          2.3       301.35   \n",
       "3                          300.0                          5.0       300.15   \n",
       "4                          280.0                          4.4       289.15   \n",
       "\n",
       "   Point de rosée  Humidité       ...          Latitude     communes (name)  \\\n",
       "0          285.45      47.0       ...         42.540667            Lucciana   \n",
       "1          293.85      57.0       ...        -11.582667                 NaN   \n",
       "2          287.55      43.0       ...         45.726500  Colombier-Saugnieu   \n",
       "3          287.25      45.0       ...         47.614333           Blotzheim   \n",
       "4          282.35      64.0       ...         49.180000           Carpiquet   \n",
       "\n",
       "  communes (code)                   EPCI (name)  EPCI (code)  \\\n",
       "0           2b148             CC de Marana-Golo  200036499.0   \n",
       "1             NaN                           NaN          NaN   \n",
       "2           69299   CC de l'Est Lyonnais (CCEL)  246900575.0   \n",
       "3           68042  CA Saint-Louis Agglomération  200066058.0   \n",
       "4           14137                CU Caen la Mer  200065597.0   \n",
       "\n",
       "   department (name)  department (code)         region (name)  region (code)  \\\n",
       "0        Haute-Corse                 2b                 Corse           94.0   \n",
       "1                NaN                NaN                   NaN            NaN   \n",
       "2              Rhône                 69  Auvergne-Rhône-Alpes           84.0   \n",
       "3          Haut-Rhin                 68             Grand Est           44.0   \n",
       "4           Calvados                 14             Normandie           28.0   \n",
       "\n",
       "   mois_de_l_annee  \n",
       "0                5  \n",
       "1                5  \n",
       "2                5  \n",
       "3                5  \n",
       "4                5  \n",
       "\n",
       "[5 rows x 82 columns]"
      ]
     },
     "execution_count": 2,
     "metadata": {},
     "output_type": "execute_result"
    }
   ],
   "source": [
    "df = pd.read_csv('donnees-synop-essentielles-omm-2.csv', sep=';')\n",
    "df.head()"
   ]
  },
  {
   "cell_type": "code",
   "execution_count": 3,
   "metadata": {
    "collapsed": true
   },
   "outputs": [],
   "source": [
    "meteobis=df[['Date', 'Température','Humidité','department (code)']]"
   ]
  },
  {
   "cell_type": "code",
   "execution_count": 4,
   "metadata": {},
   "outputs": [
    {
     "data": {
      "text/plain": [
       "171927"
      ]
     },
     "execution_count": 4,
     "metadata": {},
     "output_type": "execute_result"
    }
   ],
   "source": [
    "len(meteobis)"
   ]
  },
  {
   "cell_type": "code",
   "execution_count": 7,
   "metadata": {},
   "outputs": [
    {
     "name": "stderr",
     "output_type": "stream",
     "text": [
      "/Users/vanessa/anaconda3/lib/python3.6/site-packages/pandas/core/generic.py:4405: SettingWithCopyWarning: \n",
      "A value is trying to be set on a copy of a slice from a DataFrame.\n",
      "Try using .loc[row_indexer,col_indexer] = value instead\n",
      "\n",
      "See the caveats in the documentation: http://pandas.pydata.org/pandas-docs/stable/indexing.html#indexing-view-versus-copy\n",
      "  self[name] = value\n"
     ]
    }
   ],
   "source": [
    "meteobis.Date = pd.to_datetime(meteobis.Date)"
   ]
  },
  {
   "cell_type": "code",
   "execution_count": 8,
   "metadata": {},
   "outputs": [
    {
     "name": "stderr",
     "output_type": "stream",
     "text": [
      "/Users/vanessa/anaconda3/lib/python3.6/site-packages/pandas/core/generic.py:4405: SettingWithCopyWarning: \n",
      "A value is trying to be set on a copy of a slice from a DataFrame.\n",
      "Try using .loc[row_indexer,col_indexer] = value instead\n",
      "\n",
      "See the caveats in the documentation: http://pandas.pydata.org/pandas-docs/stable/indexing.html#indexing-view-versus-copy\n",
      "  self[name] = value\n"
     ]
    }
   ],
   "source": [
    "meteobis.Température=meteobis.Température-273.15"
   ]
  },
  {
   "cell_type": "code",
   "execution_count": 10,
   "metadata": {},
   "outputs": [
    {
     "data": {
      "text/html": [
       "<div>\n",
       "<style scoped>\n",
       "    .dataframe tbody tr th:only-of-type {\n",
       "        vertical-align: middle;\n",
       "    }\n",
       "\n",
       "    .dataframe tbody tr th {\n",
       "        vertical-align: top;\n",
       "    }\n",
       "\n",
       "    .dataframe thead th {\n",
       "        text-align: right;\n",
       "    }\n",
       "</style>\n",
       "<table border=\"1\" class=\"dataframe\">\n",
       "  <thead>\n",
       "    <tr style=\"text-align: right;\">\n",
       "      <th></th>\n",
       "      <th>Date</th>\n",
       "      <th>Température</th>\n",
       "      <th>Humidité</th>\n",
       "      <th>department (code)</th>\n",
       "    </tr>\n",
       "  </thead>\n",
       "  <tbody>\n",
       "    <tr>\n",
       "      <th>0</th>\n",
       "      <td>2020-05-22 09:00:00</td>\n",
       "      <td>24.3</td>\n",
       "      <td>47.0</td>\n",
       "      <td>2b</td>\n",
       "    </tr>\n",
       "    <tr>\n",
       "      <th>1</th>\n",
       "      <td>2020-05-22 09:00:00</td>\n",
       "      <td>30.2</td>\n",
       "      <td>57.0</td>\n",
       "      <td>0</td>\n",
       "    </tr>\n",
       "    <tr>\n",
       "      <th>2</th>\n",
       "      <td>2020-05-22 12:00:00</td>\n",
       "      <td>28.2</td>\n",
       "      <td>43.0</td>\n",
       "      <td>69</td>\n",
       "    </tr>\n",
       "    <tr>\n",
       "      <th>3</th>\n",
       "      <td>2020-05-22 15:00:00</td>\n",
       "      <td>27.0</td>\n",
       "      <td>45.0</td>\n",
       "      <td>68</td>\n",
       "    </tr>\n",
       "    <tr>\n",
       "      <th>4</th>\n",
       "      <td>2020-05-22 18:00:00</td>\n",
       "      <td>16.0</td>\n",
       "      <td>64.0</td>\n",
       "      <td>14</td>\n",
       "    </tr>\n",
       "  </tbody>\n",
       "</table>\n",
       "</div>"
      ],
      "text/plain": [
       "                 Date  Température  Humidité department (code)\n",
       "0 2020-05-22 09:00:00         24.3      47.0                2b\n",
       "1 2020-05-22 09:00:00         30.2      57.0                 0\n",
       "2 2020-05-22 12:00:00         28.2      43.0                69\n",
       "3 2020-05-22 15:00:00         27.0      45.0                68\n",
       "4 2020-05-22 18:00:00         16.0      64.0                14"
      ]
     },
     "execution_count": 10,
     "metadata": {},
     "output_type": "execute_result"
    }
   ],
   "source": [
    "meteobis=meteobis.fillna(0)\n",
    "meteobis.head()"
   ]
  },
  {
   "cell_type": "code",
   "execution_count": 79,
   "metadata": {},
   "outputs": [
    {
     "data": {
      "text/html": [
       "<div>\n",
       "<style scoped>\n",
       "    .dataframe tbody tr th:only-of-type {\n",
       "        vertical-align: middle;\n",
       "    }\n",
       "\n",
       "    .dataframe tbody tr th {\n",
       "        vertical-align: top;\n",
       "    }\n",
       "\n",
       "    .dataframe thead th {\n",
       "        text-align: right;\n",
       "    }\n",
       "</style>\n",
       "<table border=\"1\" class=\"dataframe\">\n",
       "  <thead>\n",
       "    <tr style=\"text-align: right;\">\n",
       "      <th></th>\n",
       "      <th>Température</th>\n",
       "      <th>Humidité</th>\n",
       "    </tr>\n",
       "    <tr>\n",
       "      <th>department (code)</th>\n",
       "      <th></th>\n",
       "      <th></th>\n",
       "    </tr>\n",
       "  </thead>\n",
       "  <tbody>\n",
       "    <tr>\n",
       "      <th>63</th>\n",
       "      <td>13.377567</td>\n",
       "      <td>66.777427</td>\n",
       "    </tr>\n",
       "    <tr>\n",
       "      <th>65</th>\n",
       "      <td>13.582253</td>\n",
       "      <td>76.920624</td>\n",
       "    </tr>\n",
       "    <tr>\n",
       "      <th>66</th>\n",
       "      <td>16.413610</td>\n",
       "      <td>67.010708</td>\n",
       "    </tr>\n",
       "    <tr>\n",
       "      <th>67</th>\n",
       "      <td>12.654957</td>\n",
       "      <td>72.636269</td>\n",
       "    </tr>\n",
       "    <tr>\n",
       "      <th>68</th>\n",
       "      <td>12.216782</td>\n",
       "      <td>73.029006</td>\n",
       "    </tr>\n",
       "    <tr>\n",
       "      <th>69</th>\n",
       "      <td>14.149896</td>\n",
       "      <td>68.276934</td>\n",
       "    </tr>\n",
       "    <tr>\n",
       "      <th>76</th>\n",
       "      <td>12.070245</td>\n",
       "      <td>79.070763</td>\n",
       "    </tr>\n",
       "    <tr>\n",
       "      <th>80</th>\n",
       "      <td>12.219606</td>\n",
       "      <td>78.345185</td>\n",
       "    </tr>\n",
       "    <tr>\n",
       "      <th>83</th>\n",
       "      <td>1.134901</td>\n",
       "      <td>7.601176</td>\n",
       "    </tr>\n",
       "    <tr>\n",
       "      <th>86</th>\n",
       "      <td>13.480255</td>\n",
       "      <td>76.669658</td>\n",
       "    </tr>\n",
       "    <tr>\n",
       "      <th>87</th>\n",
       "      <td>12.846098</td>\n",
       "      <td>74.799724</td>\n",
       "    </tr>\n",
       "    <tr>\n",
       "      <th>91</th>\n",
       "      <td>13.647169</td>\n",
       "      <td>71.270028</td>\n",
       "    </tr>\n",
       "    <tr>\n",
       "      <th>971</th>\n",
       "      <td>26.999152</td>\n",
       "      <td>76.481059</td>\n",
       "    </tr>\n",
       "    <tr>\n",
       "      <th>972</th>\n",
       "      <td>27.305389</td>\n",
       "      <td>76.170945</td>\n",
       "    </tr>\n",
       "    <tr>\n",
       "      <th>973</th>\n",
       "      <td>26.550595</td>\n",
       "      <td>85.588803</td>\n",
       "    </tr>\n",
       "    <tr>\n",
       "      <th>974</th>\n",
       "      <td>24.126980</td>\n",
       "      <td>70.564511</td>\n",
       "    </tr>\n",
       "    <tr>\n",
       "      <th>975</th>\n",
       "      <td>6.385862</td>\n",
       "      <td>86.580712</td>\n",
       "    </tr>\n",
       "    <tr>\n",
       "      <th>976</th>\n",
       "      <td>26.943444</td>\n",
       "      <td>75.855186</td>\n",
       "    </tr>\n",
       "    <tr>\n",
       "      <th>977</th>\n",
       "      <td>27.713514</td>\n",
       "      <td>72.435897</td>\n",
       "    </tr>\n",
       "    <tr>\n",
       "      <th>984</th>\n",
       "      <td>18.751772</td>\n",
       "      <td>67.050086</td>\n",
       "    </tr>\n",
       "  </tbody>\n",
       "</table>\n",
       "</div>"
      ],
      "text/plain": [
       "                   Température   Humidité\n",
       "department (code)                        \n",
       "63                   13.377567  66.777427\n",
       "65                   13.582253  76.920624\n",
       "66                   16.413610  67.010708\n",
       "67                   12.654957  72.636269\n",
       "68                   12.216782  73.029006\n",
       "69                   14.149896  68.276934\n",
       "76                   12.070245  79.070763\n",
       "80                   12.219606  78.345185\n",
       "83                    1.134901   7.601176\n",
       "86                   13.480255  76.669658\n",
       "87                   12.846098  74.799724\n",
       "91                   13.647169  71.270028\n",
       "971                  26.999152  76.481059\n",
       "972                  27.305389  76.170945\n",
       "973                  26.550595  85.588803\n",
       "974                  24.126980  70.564511\n",
       "975                   6.385862  86.580712\n",
       "976                  26.943444  75.855186\n",
       "977                  27.713514  72.435897\n",
       "984                  18.751772  67.050086"
      ]
     },
     "execution_count": 79,
     "metadata": {},
     "output_type": "execute_result"
    }
   ],
   "source": [
    "essai=meteobis.groupby(meteobis['department (code)']).mean()\n",
    "essai.tail(20)"
   ]
  },
  {
   "cell_type": "code",
   "execution_count": 80,
   "metadata": {
    "collapsed": true
   },
   "outputs": [],
   "source": [
    "dep='53'"
   ]
  },
  {
   "cell_type": "code",
   "execution_count": 81,
   "metadata": {},
   "outputs": [
    {
     "data": {
      "text/html": [
       "<div>\n",
       "<style scoped>\n",
       "    .dataframe tbody tr th:only-of-type {\n",
       "        vertical-align: middle;\n",
       "    }\n",
       "\n",
       "    .dataframe tbody tr th {\n",
       "        vertical-align: top;\n",
       "    }\n",
       "\n",
       "    .dataframe thead th {\n",
       "        text-align: right;\n",
       "    }\n",
       "</style>\n",
       "<table border=\"1\" class=\"dataframe\">\n",
       "  <thead>\n",
       "    <tr style=\"text-align: right;\">\n",
       "      <th></th>\n",
       "      <th>Température</th>\n",
       "      <th>Humidité</th>\n",
       "    </tr>\n",
       "    <tr>\n",
       "      <th>Date</th>\n",
       "      <th></th>\n",
       "      <th></th>\n",
       "    </tr>\n",
       "  </thead>\n",
       "  <tbody>\n",
       "  </tbody>\n",
       "</table>\n",
       "</div>"
      ],
      "text/plain": [
       "Empty DataFrame\n",
       "Columns: [Température, Humidité]\n",
       "Index: []"
      ]
     },
     "execution_count": 81,
     "metadata": {},
     "output_type": "execute_result"
    }
   ],
   "source": [
    "mon=meteobis[meteobis['department (code)']==dep]\n",
    "mon=mon.groupby(mon['Date'].dt.strftime('%Y-%m-%d')).mean()\n",
    "mon.head()"
   ]
  },
  {
   "cell_type": "code",
   "execution_count": 67,
   "metadata": {
    "collapsed": true
   },
   "outputs": [],
   "source": [
    "mon.index = pd.to_datetime(mon.index)"
   ]
  },
  {
   "cell_type": "code",
   "execution_count": 68,
   "metadata": {
    "collapsed": true
   },
   "outputs": [],
   "source": [
    "mon['IPTCC']=mon['Humidité']\n",
    "for i in range (0,len(mon)-1):\n",
    "    AH=6.112*(exp(17.67*mon['Température'][i]/(mon['Température'][i]+243.5))*mon['Humidité'][i]*2.1674)/(273.15+mon['Température'][i])\n",
    "    mon['IPTCC'][i]=100*exp(-1/2*((mon['Température'][i]-7.5)**2/196+(mon['Humidité'][i]-75)**2/625+(AH-6)**2/2.89))\n",
    "    next"
   ]
  },
  {
   "cell_type": "code",
   "execution_count": 69,
   "metadata": {},
   "outputs": [
    {
     "data": {
      "text/html": [
       "<div>\n",
       "<style scoped>\n",
       "    .dataframe tbody tr th:only-of-type {\n",
       "        vertical-align: middle;\n",
       "    }\n",
       "\n",
       "    .dataframe tbody tr th {\n",
       "        vertical-align: top;\n",
       "    }\n",
       "\n",
       "    .dataframe thead th {\n",
       "        text-align: right;\n",
       "    }\n",
       "</style>\n",
       "<table border=\"1\" class=\"dataframe\">\n",
       "  <thead>\n",
       "    <tr style=\"text-align: right;\">\n",
       "      <th></th>\n",
       "      <th>Température</th>\n",
       "      <th>Humidité</th>\n",
       "      <th>IPTCC</th>\n",
       "    </tr>\n",
       "    <tr>\n",
       "      <th>Date</th>\n",
       "      <th></th>\n",
       "      <th></th>\n",
       "      <th></th>\n",
       "    </tr>\n",
       "  </thead>\n",
       "  <tbody>\n",
       "  </tbody>\n",
       "</table>\n",
       "</div>"
      ],
      "text/plain": [
       "Empty DataFrame\n",
       "Columns: [Température, Humidité, IPTCC]\n",
       "Index: []"
      ]
     },
     "execution_count": 69,
     "metadata": {},
     "output_type": "execute_result"
    }
   ],
   "source": [
    "mon.head()"
   ]
  },
  {
   "cell_type": "code",
   "execution_count": 70,
   "metadata": {},
   "outputs": [
    {
     "name": "stderr",
     "output_type": "stream",
     "text": [
      "/Users/vanessa/anaconda3/lib/python3.6/site-packages/IPython/core/interactiveshell.py:2698: DtypeWarning: Columns (0) have mixed types. Specify dtype option on import or set low_memory=False.\n",
      "  interactivity=interactivity, compiler=compiler, result=result)\n",
      "/Users/vanessa/anaconda3/lib/python3.6/site-packages/ipykernel_launcher.py:2: UserWarning: Boolean Series key will be reindexed to match DataFrame index.\n",
      "  \n"
     ]
    }
   ],
   "source": [
    "df3 = pd.read_csv('https://www.data.gouv.fr/fr/datasets/r/406c6a23-e283-4300-9484-54e78c8ae675', sep=';')\n",
    "test=df3[df3.cl_age90 == 0][df3.dep==dep].groupby(['jour']).sum()\n",
    "test['taux']=test['P']/test['T']\n",
    "test.index = pd.to_datetime(test.index)"
   ]
  },
  {
   "cell_type": "code",
   "execution_count": 71,
   "metadata": {},
   "outputs": [
    {
     "data": {
      "image/png": "[encoded data removed]",
      "text/plain": [
       "<matplotlib.figure.Figure at 0x7f81b9b73390>"
      ]
     },
     "metadata": {},
     "output_type": "display_data"
    }
   ],
   "source": [
    "fig, ax1 = plt.subplots()\n",
    "\n",
    "color = 'tab:blue'\n",
    "\n",
    "ax1.plot(test.index.values, test[['taux']], color=color)\n",
    "ax1.tick_params(axis='y', labelcolor=color)\n",
    "\n",
    "ax2 = ax1.twinx()  # instantiate a second axes that shares the same x-axis\n",
    "\n",
    "color = 'tab:red'\n",
    "#ax2.set_ylabel('sin', color=color)  # we already handled the x-label with ax1\n",
    "ax2.plot(mon.index.values, mon[['IPTCC']], color=color)\n",
    "ax2.tick_params(axis='y', labelcolor=color)\n",
    "\n",
    "fig.tight_layout()  # otherwise the right y-label is slightly clipped\n",
    "plt.show()"
   ]
  },
  {
   "cell_type": "markdown",
   "metadata": {
    "collapsed": true
   },
   "source": [
    "# recuperation données infoclimat"
   ]
  },
  {
   "cell_type": "code",
   "execution_count": 1,
   "metadata": {
    "collapsed": true
   },
   "outputs": [],
   "source": [
    "import pandas as pd\n",
    "import numpy as np\n",
    "import seaborn as sns\n",
    "import matplotlib.pyplot as plt\n",
    "from math import exp"
   ]
  },
  {
   "cell_type": "code",
   "execution_count": 7,
   "metadata": {
    "collapsed": true
   },
   "outputs": [],
   "source": [
    "url='https://www.infoclimat.fr/observations-meteo/archives/30/juin/2020/laval-etronier/07134.html'"
   ]
  },
  {
   "cell_type": "code",
   "execution_count": 8,
   "metadata": {
    "collapsed": true
   },
   "outputs": [],
   "source": [
    "import urllib3\n",
    "import time\n",
    "urllib3.disable_warnings()\n",
    "from bs4 import BeautifulSoup\n",
    "import statistics "
   ]
  },
  {
   "cell_type": "code",
   "execution_count": 35,
   "metadata": {
    "collapsed": true
   },
   "outputs": [],
   "source": [
    "def get_temp_hum():\n",
    "    http = urllib3.PoolManager()\n",
    "    response = http.request('GET', url)\n",
    "    soup = BeautifulSoup(response.data,\"html.parser\")\n",
    "    soup2=soup.find('div', attrs={'class':'resptable-container'})\n",
    "    try:\n",
    "        soup_temp= soup2.findAll('span', attrs={'style':'font-weight:bold;display:inline-block;font-size:16px'})\n",
    "        soup_hum=soup2.findAll('span', attrs={'style':'font-weight:bold;display:inline-block'})\n",
    "        res_temp=[]\n",
    "        res_hum=[]\n",
    "        for i in range (0, 23):\n",
    "            res_temp.append(float(soup_temp[i].text))\n",
    "            res_hum.append(float(soup_hum[2*i].text))\n",
    "        next\n",
    "        res_mat=[statistics.mean(res_temp),statistics.mean(res_hum)]\n",
    "        print(res_mat)\n",
    "    except:\n",
    "        print(url)"
   ]
  },
  {
   "cell_type": "code",
   "execution_count": 10,
   "metadata": {
    "collapsed": true
   },
   "outputs": [],
   "source": [
    "res_temp=[]\n",
    "res_hum=[]\n",
    "for i in range (0, 23):\n",
    "    res_temp.append(float(soup_temp[i].text))\n",
    "    res_hum.append(float(soup_hum[2*i].text))\n",
    "    next"
   ]
  },
  {
   "cell_type": "code",
   "execution_count": 11,
   "metadata": {},
   "outputs": [
    {
     "data": {
      "text/plain": [
       "17.904347826086955"
      ]
     },
     "execution_count": 11,
     "metadata": {},
     "output_type": "execute_result"
    }
   ],
   "source": [
    "import statistics \n",
    "statistics.mean(res_temp)\n"
   ]
  },
  {
   "cell_type": "code",
   "execution_count": 12,
   "metadata": {},
   "outputs": [
    {
     "data": {
      "text/plain": [
       "83.30434782608695"
      ]
     },
     "execution_count": 12,
     "metadata": {},
     "output_type": "execute_result"
    }
   ],
   "source": [
    "statistics.mean(res_hum)"
   ]
  },
  {
   "cell_type": "code",
   "execution_count": 30,
   "metadata": {
    "collapsed": true
   },
   "outputs": [],
   "source": [
    "url2='https://www.infoclimat.fr/observations-meteo/archives/31/juin/2020/laval-etronier/07134.html'"
   ]
  },
  {
   "cell_type": "code",
   "execution_count": 24,
   "metadata": {
    "collapsed": true
   },
   "outputs": [],
   "source": []
  },
  {
   "cell_type": "code",
   "execution_count": 37,
   "metadata": {},
   "outputs": [
    {
     "name": "stdout",
     "output_type": "stream",
     "text": [
      "[7.0, 100.0]\n",
      "[8.8, 97.0]\n",
      "[9.23913043478261, 93.0]\n",
      "[5.6521739130434785, 88.6086956521739]\n",
      "https://www.infoclimat.fr/observations-meteo/archives/5/janvier/2020/laval-etronier/07134.html\n",
      "https://www.infoclimat.fr/observations-meteo/archives/6/janvier/2020/laval-etronier/07134.html\n",
      "https://www.infoclimat.fr/observations-meteo/archives/7/janvier/2020/laval-etronier/07134.html\n",
      "https://www.infoclimat.fr/observations-meteo/archives/8/janvier/2020/laval-etronier/07134.html\n",
      "https://www.infoclimat.fr/observations-meteo/archives/9/janvier/2020/laval-etronier/07134.html\n",
      "https://www.infoclimat.fr/observations-meteo/archives/10/janvier/2020/laval-etronier/07134.html\n",
      "https://www.infoclimat.fr/observations-meteo/archives/11/janvier/2020/laval-etronier/07134.html\n",
      "https://www.infoclimat.fr/observations-meteo/archives/12/janvier/2020/laval-etronier/07134.html\n",
      "https://www.infoclimat.fr/observations-meteo/archives/13/janvier/2020/laval-etronier/07134.html\n",
      "https://www.infoclimat.fr/observations-meteo/archives/14/janvier/2020/laval-etronier/07134.html\n",
      "https://www.infoclimat.fr/observations-meteo/archives/15/janvier/2020/laval-etronier/07134.html\n",
      "https://www.infoclimat.fr/observations-meteo/archives/16/janvier/2020/laval-etronier/07134.html\n",
      "https://www.infoclimat.fr/observations-meteo/archives/17/janvier/2020/laval-etronier/07134.html\n",
      "https://www.infoclimat.fr/observations-meteo/archives/18/janvier/2020/laval-etronier/07134.html\n",
      "https://www.infoclimat.fr/observations-meteo/archives/19/janvier/2020/laval-etronier/07134.html\n",
      "https://www.infoclimat.fr/observations-meteo/archives/20/janvier/2020/laval-etronier/07134.html\n",
      "https://www.infoclimat.fr/observations-meteo/archives/21/janvier/2020/laval-etronier/07134.html\n",
      "https://www.infoclimat.fr/observations-meteo/archives/22/janvier/2020/laval-etronier/07134.html\n",
      "https://www.infoclimat.fr/observations-meteo/archives/23/janvier/2020/laval-etronier/07134.html\n",
      "https://www.infoclimat.fr/observations-meteo/archives/24/janvier/2020/laval-etronier/07134.html\n",
      "https://www.infoclimat.fr/observations-meteo/archives/25/janvier/2020/laval-etronier/07134.html\n",
      "https://www.infoclimat.fr/observations-meteo/archives/26/janvier/2020/laval-etronier/07134.html\n",
      "https://www.infoclimat.fr/observations-meteo/archives/27/janvier/2020/laval-etronier/07134.html\n",
      "https://www.infoclimat.fr/observations-meteo/archives/28/janvier/2020/laval-etronier/07134.html\n",
      "https://www.infoclimat.fr/observations-meteo/archives/29/janvier/2020/laval-etronier/07134.html\n",
      "https://www.infoclimat.fr/observations-meteo/archives/30/janvier/2020/laval-etronier/07134.html\n"
     ]
    }
   ],
   "source": [
    "mois=['janvier','fevrier','mars','avril','mai','juin','juillet','aout','septembre','octobre','novembre','decembre']\n",
    "for j in range(0,1):\n",
    "    for i in range (1, 31):\n",
    "        if i==1 :\n",
    "            date='1er'\n",
    "        else:\n",
    "            date= str(i)\n",
    "        url='https://www.infoclimat.fr/observations-meteo/archives/' + date +'/'+ mois[j] + '/2020/laval-etronier/07134.html'\n",
    "        get_temp_hum()\n",
    "        next\n",
    "    next\n",
    "    "
   ]
  },
  {
   "cell_type": "code",
   "execution_count": null,
   "metadata": {
    "collapsed": true
   },
   "outputs": [],
   "source": []
  }
 ],
 "metadata": {
  "kernelspec": {
   "display_name": "Python 3",
   "language": "python",
   "name": "python3"
  },
  "language_info": {
   "codemirror_mode": {
    "name": "ipython",
    "version": 3
   },
   "file_extension": ".py",
   "mimetype": "text/x-python",
   "name": "python",
   "nbconvert_exporter": "python",
   "pygments_lexer": "ipython3",
   "version": "3.6.3"
  },
  "toc": {
   "nav_menu": {},
   "number_sections": true,
   "sideBar": true,
   "skip_h1_title": false,
   "title_cell": "Table of Contents",
   "title_sidebar": "Contents",
   "toc_cell": true,
   "toc_position": {},
   "toc_section_display": true,
   "toc_window_display": false
  }
 },
 "nbformat": 4,
 "nbformat_minor": 2
}
