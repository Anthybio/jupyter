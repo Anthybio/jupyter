{
 "cells": [
  {
   "cell_type": "markdown",
   "metadata": {},
   "source": [
    "<center><h1>TEST RATP<span class=\"tocSkip\"></span></h1></center>"
   ]
  },
  {
   "cell_type": "markdown",
   "metadata": {
    "toc": true
   },
   "source": [
    "<h1>Table of Contents<span class=\"tocSkip\"></span></h1>\n",
    "<div class=\"toc\"><ul class=\"toc-item\"><li><span><a href=\"#Recuperer-données-site-ratp\" data-toc-modified-id=\"Recuperer-données-site-ratp-1\"><span class=\"toc-item-num\">1&nbsp;&nbsp;</span>Recuperer données site ratp</a></span></li><li><span><a href=\"#essai-de-bot-sur-telegram\" data-toc-modified-id=\"essai-de-bot-sur-telegram-2\"><span class=\"toc-item-num\">2&nbsp;&nbsp;</span>essai de bot sur telegram</a></span></li><li><span><a href=\"#test-complet\" data-toc-modified-id=\"test-complet-3\"><span class=\"toc-item-num\">3&nbsp;&nbsp;</span>test complet</a></span></li></ul></div>"
   ]
  },
  {
   "cell_type": "markdown",
   "metadata": {},
   "source": [
    "## Recuperer données site ratp"
   ]
  },
  {
   "cell_type": "markdown",
   "metadata": {},
   "source": [
    "https://medium.freecodecamp.org/how-to-scrape-websites-with-python-and-beautifulsoup-5946935d93fe"
   ]
  },
  {
   "cell_type": "code",
   "execution_count": 90,
   "metadata": {
    "collapsed": true
   },
   "outputs": [],
   "source": [
    "import urllib3\n",
    "import time\n",
    "urllib3.disable_warnings()\n",
    "from bs4 import BeautifulSoup"
   ]
  },
  {
   "cell_type": "code",
   "execution_count": 110,
   "metadata": {},
   "outputs": [
    {
     "name": "stdout",
     "output_type": "stream",
     "text": [
      "11 min   puis   27 min\n"
     ]
    }
   ],
   "source": [
    "#url=(adresse_1+arret[1]+ adresse_2)\n",
    "url = \"https://www.ratp.fr/horaires?network-current=&networks=busratp&line_busratp=323&name_line_busratp=Ivry-Gambetta+%2F+Issy+Val+de+Seine&id_line_busratp=B323&id_t_line_busratp=&line_noctilien=&name_line_noctilien=&id_line_noctilien=&id_t_line_noctilien=&stop_point_busratp=\"\n",
    "http = urllib3.PoolManager()\n",
    "response = http.request('GET', url)\n",
    "soup = BeautifulSoup(response.data,\"html.parser\")\n",
    "test=soup.find('ul', attrs={'class':'horaires-timetable'})\n",
    "test2=test.findAll('span')\n",
    "temps1 = test2[3].text\n",
    "temps2 = test2[5].text\n",
    "print(temps1, \"  puis  \", temps2)"
   ]
  },
  {
   "cell_type": "markdown",
   "metadata": {},
   "source": [
    "## essai de bot sur telegram##"
   ]
  },
  {
   "cell_type": "markdown",
   "metadata": {},
   "source": [
    "nom: antibyot \n",
    "\n",
    "username: AnthybioBot\n",
    "\n",
    "token: 555551616:AAF1W70WHVxlxfOMuPn1FoyOXJ2ITURg27A"
   ]
  },
  {
   "cell_type": "markdown",
   "metadata": {},
   "source": [
    "## test complet ##"
   ]
  },
  {
   "cell_type": "markdown",
   "metadata": {
    "collapsed": true
   },
   "source": [
    "liste des arrets"
   ]
  },
  {
   "cell_type": "code",
   "execution_count": 1,
   "metadata": {},
   "outputs": [
    {
     "name": "stdout",
     "output_type": "stream",
     "text": [
      "https://www.ratp.fr/horaires?network-current=&networks=busratp&line_busratp=323&name_line_busratp=Ivry-Gambetta+%2F+Issy+Val+de+Seine&id_line_busratp=B323&id_t_line_busratp=&line_noctilien=&name_line_noctilien=&id_line_noctilien=&id_t_line_noctilien=&stop_point_busratp=Insurrection+d%27Aout+1944&type=now&departure_date=17%2F01%2F2019&departure_hour=21&departure_minute=15&op=Rechercher\n"
     ]
    }
   ],
   "source": [
    "import urllib3\n",
    "import time\n",
    "urllib3.disable_warnings()\n",
    "from bs4 import BeautifulSoup\n",
    "from datetime import datetime\n",
    "dte=datetime.now().strftime(\"%d%%2F%m%%2F%Y\")\n",
    "dheu=str(int(datetime.now().strftime(\"%H\")))\n",
    "dmin=str(round(int(datetime.now().strftime(\"%M\"))/5)*5)\n",
    "#dmin=str(7)\n",
    "adresse_1=\"https://www.ratp.fr/horaires?network-current=&networks=busratp&line_busratp=323&name_line_busratp=Ivry-Gambetta+%2F+Issy+Val+de+Seine&id_line_busratp=B323&id_t_line_busratp=&line_noctilien=&name_line_noctilien=&id_line_noctilien=&id_t_line_noctilien=&stop_point_busratp=\"\n",
    "adresse_2=(\"&type=now&departure_date=\"+dte+\"&departure_hour=\"+dheu+\"&departure_minute=\"+dmin+\"&op=Rechercher\")\n",
    "arret=(\"Insurrection+d%27Aout+1944\",\"Moliere\",\"Ivry-Sur-Seine+RER\",\"Hotel+de+Ville+d%27Ivry\",\"Mairie+d%27Ivry-Metro\",\"Jean+le+Galleu\",\"Verdun-Barbusse\",\"Carnot\",\"Le+Kremlin-Bicetre-Metro\",\"Barnufles+-+la+Piscine\",\"Lycee+Darius+Milhaud+-+Charles+Gide\",\"Malleret-Joinville\",\"Maison+du+Grand+Cedre\",\"Hotel+de+Ville+d%27Arcueil\",\"Laplace+RER\",\"Vache+Noire+-+Centre+Commercial\")\n",
    "print (adresse_1+arret[0]+ adresse_2)"
   ]
  },
  {
   "cell_type": "code",
   "execution_count": 155,
   "metadata": {},
   "outputs": [
    {
     "name": "stdout",
     "output_type": "stream",
     "text": [
      "[8, 9, 11, 13, 13, 16, 17, 0, 3, 6, 8, 9, 11, 13, 0, 1]\n"
     ]
    }
   ],
   "source": [
    "timing=[]\n",
    "for i in range (0,len(arret)):\n",
    "    url=(adresse_1+arret[i]+ adresse_2)\n",
    "    http = urllib3.PoolManager()\n",
    "    response = http.request('GET', url)\n",
    "    soup = BeautifulSoup(response.data,\"html.parser\")\n",
    "    test=soup.find('div', attrs={'class':'ixxi-horaire-result-wrapper ixxi-horaire-result-now'})\n",
    "    test2=test.findAll('span',attrs={'class': 'heure-wrap'})\n",
    "    test3=test.findAll('span',attrs={'class': 'terminus-wrap'})\n",
    "    i1=len(test2)-2\n",
    "    if len(test2)==8:\n",
    "        res1=test2[i1].text\n",
    "    elif len(test2)==7:\n",
    "        if test2[i1].text == \"Temps d'attente\":\n",
    "            i1=len(test2)-1\n",
    "        else: \n",
    "            i1=len(test2)-2\n",
    "        res1=test2[i1].text\n",
    "    else:\n",
    "        res1='NA'\n",
    "    \n",
    "    if res1==\"A l'arret\":\n",
    "        temps2=0\n",
    "    elif res1==\"A l'approche\":\n",
    "        temps2=1\n",
    "    else:\n",
    "        temps2=res1.replace(' min','')\n",
    "    timing.append(int(temps2))\n",
    "    \n",
    "print(timing)\n",
    "    #i2=len(test3)-1\n",
    "    #print(len(test2), ' et ', len(test3), ': ', res1, test3[i2])\n",
    "    #i1=len(test2)-3\n",
    "    #print(test2[i1].text)\n",
    "    #print(test2[0])\n",
    "    #print(test2)"
   ]
  },
  {
   "cell_type": "code",
   "execution_count": 156,
   "metadata": {},
   "outputs": [
    {
     "name": "stdout",
     "output_type": "stream",
     "text": [
      "[8, 9, 11, 13, 13, 16, 17, 0, 3, 6, 8, 9, 11, 13, 0, 1, '12:00']\n"
     ]
    }
   ],
   "source": [
    "timing.append(\"12:00\")\n",
    "print(timing)"
   ]
  },
  {
   "cell_type": "code",
   "execution_count": 159,
   "metadata": {},
   "outputs": [
    {
     "name": "stdout",
     "output_type": "stream",
     "text": [
      "1\n"
     ]
    }
   ],
   "source": [
    "import pandas as pd\n",
    "df = pd.read_csv('Documents/donnees_ratp.csv', sep=';', header=None)\n",
    "print(len(df))\n",
    "#df.loc[len(df)] = timing\n",
    "#df.head()"
   ]
  },
  {
   "cell_type": "code",
   "execution_count": 116,
   "metadata": {},
   "outputs": [
    {
     "name": "stdout",
     "output_type": "stream",
     "text": [
      "[3, 9.5, 13]\n"
     ]
    }
   ],
   "source": [
    "bus=[]\n",
    "for i in range (1,len(timing)):\n",
    "    if timing[i]<timing[i-1]:\n",
    "        if timing[i]==0:\n",
    "            res=i+1\n",
    "        else:\n",
    "            res=i+.5\n",
    "        bus.append(res)\n",
    "print(bus)"
   ]
  },
  {
   "cell_type": "code",
   "execution_count": 117,
   "metadata": {},
   "outputs": [
    {
     "name": "stdout",
     "output_type": "stream",
     "text": [
      "[6, 13, 25, 31]\n"
     ]
    }
   ],
   "source": [
    "attent=[]\n",
    "att=timing[len(timing)-1]\n",
    "attent.append(att)\n",
    "for i in range (1, len(bus)+1):\n",
    "    pos=round(bus[len(bus)-i]-1)\n",
    "    if timing[pos]==0:\n",
    "        att=att+timing[pos-1]\n",
    "    else:\n",
    "        att=att+timing[pos]\n",
    "    attent.append(att)\n",
    "print(attent)"
   ]
  },
  {
   "cell_type": "code",
   "execution_count": 109,
   "metadata": {},
   "outputs": [
    {
     "name": "stdout",
     "output_type": "stream",
     "text": [
      "16\n"
     ]
    }
   ],
   "source": [
    "print(len(timing))"
   ]
  },
  {
   "cell_type": "markdown",
   "metadata": {},
   "source": [
    "trajet bus sous maps"
   ]
  },
  {
   "cell_type": "code",
   "execution_count": 11,
   "metadata": {},
   "outputs": [
    {
     "name": "stdout",
     "output_type": "stream",
     "text": [
      "03 min 21:53\n"
     ]
    }
   ],
   "source": [
    "url=(adresse_1+arret[8]+ adresse_2)\n",
    "http = urllib3.PoolManager()\n",
    "response = http.request('GET', url)\n",
    "soup = BeautifulSoup(response.data,\"html.parser\")\n",
    "test=soup.findAll('li', attrs={'class':'body-busratp'})\n",
    "test2=test[2].findAll('span')\n",
    "test4=soup.findAll('div', attrs={'class':'network-time'})\n",
    "if len(test2)==2:\n",
    "    test3=test2[1].text\n",
    "else:\n",
    "    test3=test2[0].text\n",
    "print(test3, test4[0].text)"
   ]
  },
  {
   "cell_type": "markdown",
   "metadata": {},
   "source": [
    "si test2 = 8 method 1 -> i1=len(test2)-3\n",
    "\n",
    "si test2<7 si le dernier test 3= Chatillon-Montrouge-Metro ->method 1\n",
    "\n"
   ]
  },
  {
   "cell_type": "code",
   "execution_count": 55,
   "metadata": {},
   "outputs": [
    {
     "name": "stdout",
     "output_type": "stream",
     "text": [
      "20\n",
      "20\n",
      "20\n",
      "20\n",
      "20\n",
      "20\n",
      "20\n",
      "20\n",
      "19\n",
      "20\n",
      "20\n",
      "20\n",
      "20\n",
      "20\n",
      "20\n",
      "20\n"
     ]
    }
   ],
   "source": [
    "for i in range (0,len(arret)):\n",
    "    url=(adresse_1+arret[i]+ adresse_2)\n",
    "    http = urllib3.PoolManager()\n",
    "    response = http.request('GET', url)\n",
    "    soup = BeautifulSoup(response.data,\"html.parser\")\n",
    "    test=soup.find('div', attrs={'class':'ixxi-horaire-result-wrapper ixxi-horaire-result-now'})\n",
    "    test2=test.findAll('span')\n",
    "    i1=len(test2)-3\n",
    "    #print(test2[i1].text)\n",
    "    print(len(test2))\n",
    "    #print(test2)"
   ]
  },
  {
   "cell_type": "code",
   "execution_count": 27,
   "metadata": {},
   "outputs": [
    {
     "name": "stdout",
     "output_type": "stream",
     "text": [
      "59\n"
     ]
    }
   ],
   "source": [
    "print(datetime.now().strftime(\"%M\"))"
   ]
  },
  {
   "cell_type": "code",
   "execution_count": 2,
   "metadata": {},
   "outputs": [
    {
     "name": "stdout",
     "output_type": "stream",
     "text": [
      "/Users/vanessa/anaconda3/lib/python3.6/site-packages/pandas/__init__.py\n"
     ]
    }
   ],
   "source": [
    "import pandas\n",
    "print(pandas.__file__)"
   ]
  },
  {
   "cell_type": "code",
   "execution_count": null,
   "metadata": {
    "collapsed": true
   },
   "outputs": [],
   "source": []
  }
 ],
 "metadata": {
  "kernelspec": {
   "display_name": "Python 3",
   "language": "python",
   "name": "python3"
  },
  "language_info": {
   "codemirror_mode": {
    "name": "ipython",
    "version": 3
   },
   "file_extension": ".py",
   "mimetype": "text/x-python",
   "name": "python",
   "nbconvert_exporter": "python",
   "pygments_lexer": "ipython3",
   "version": "3.6.3"
  },
  "toc": {
   "nav_menu": {},
   "number_sections": true,
   "sideBar": true,
   "skip_h1_title": false,
   "title_cell": "Table of Contents",
   "title_sidebar": "Contents",
   "toc_cell": true,
   "toc_position": {},
   "toc_section_display": true,
   "toc_window_display": false
  }
 },
 "nbformat": 4,
 "nbformat_minor": 2
}
